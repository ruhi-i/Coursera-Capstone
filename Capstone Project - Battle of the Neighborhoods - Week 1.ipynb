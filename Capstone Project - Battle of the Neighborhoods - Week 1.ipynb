{
 "cells": [
  {
   "cell_type": "markdown",
   "metadata": {},
   "source": [
    "# Real-Estate Investment Analysis of Toronto Neighbourhoods\n",
    "\n",
    "### Applied Data Science Capstone Project  - IBM "
   ]
  },
  {
   "cell_type": "markdown",
   "metadata": {},
   "source": [
    "## Introduction "
   ]
  },
  {
   "cell_type": "markdown",
   "metadata": {},
   "source": [
    "**Real Estate Investment** involves purchasing, managing, renting and selling real or physical property, for a profit.\n",
    "Such an investment is characterised by a large amount of capital, and involves careful planning and decision making, for it to be a successful one.  \n",
    "\n",
    "A **Neighbourhood-wise Analysis** of **Residential Real Estate** in the **140 Neighbourhoods of Toronto**, to determine which Neighbourhood would potentially offer a good return on investment, is the *goal of this project*.\n",
    "\n",
    "**Toronto** is the largest and most populous city in Canada, known for being *diverse, multicultural and home to world class-amenities*, making it a great place to invest in a house!\n",
    "\n",
    "When investing in a property, an overall market analysis will provide a good idea of the trends , but will not suffice. It is imperative to buy property in the **right neighbourhood**, because even if the overall market is great, a wrong location may lead to decreased property value in the future.\n",
    "\n",
    "A Neighbourhood Analysis will reveal the **investment potential** of various neighbourhoods, based on their characteristics.\n",
    "\n",
    "\n",
    "\n",
    "\n",
    "## Data\n",
    "\n",
    "#### Data pertaining to the following factors is used in the Neighbourhood Analysis:\n",
    "\n",
    "### **Location** : \n",
    "\n",
    "This is the most **important** factor in Real Estate Investment. A **good location** has **close proximity** to transport, schools, recreation, shopping, employment and various other Amenities. \n",
    "\n",
    "**Amenities** are enhancing features, which benefit a location, contribute to its enjoyment and *increase its value*.  Amenities include parks,hospitals,restaurants,gyms etc.\n",
    "\n",
    "The Location data will be collected using the **explore endpoint** of the  **Foursquare API**.\n",
    "                 \n",
    "\n",
    "\n",
    "\n",
    "### **Demographics** : \n",
    "\n",
    "The **Population, Age, Educational Attainment, Crime Rate and Median Income Levels** of a Neighbourhood, have a great impact on the *value and investment potential* of the Houses in it.\n",
    "\n",
    "Therefore, it's essential to analyze the Demographics of neighbourhoods, and rank them accordingly.\n",
    "\n",
    "The Demographic data is taken from the **'Neighbourhood Profiles'** Dataset of the [City of Toronto’s Open                             Data Portal](https://open.toronto.ca/dataset/neighbourhood-profiles/).\n",
    "\n",
    "  \n",
    "  \n",
    "\n",
    "\n",
    "\n",
    "### **Real Estate Market** : \n",
    "\n",
    "Real Estate Data such as: \n",
    "\n",
    "* House Values\n",
    "* Structure Type \n",
    "* Number of Bedrooms\n",
    "* Year of Construction\n",
    "* Rental Rates\n",
    "* Total Sales and Sales Volume\n",
    "* Sales Price to List Price Ratio\n",
    "* Average Days on Market\n",
    "\n",
    "   are factors that influence the value of a property.  \n",
    "     \n",
    "The real estate data is collected from the **Community Reports** and **Market Watch** of                                       [TRREB(Toronto Real Estate Board)](https://trreb.ca/index.php/market-news/community-reports) &                         [Realosophy](https://www.realosophy.com/toronto/neighbourhood-map).\n",
    "\n",
    "\n",
    "                      \n",
    "### **Neighbourhood Maps**\n",
    "\n",
    "\n",
    "For visualizing the data geospatially, the **Folium** library is used. The **Coordinates** of each neighbourhood in Toronto is taken from [Geodatos](https://www.geodatos.net/en/coordinates), as it provided very accurate coordinates when compared to the Geopy Library. The GeoJson for mapping the boundaries of neighbourhoods is taken from City of Toronto’s Open Data Portal.                                                \n",
    "\n"
   ]
  }
 ],
 "metadata": {
  "kernelspec": {
   "display_name": "Python 3",
   "language": "python",
   "name": "python3"
  },
  "language_info": {
   "codemirror_mode": {
    "name": "ipython",
    "version": 3
   },
   "file_extension": ".py",
   "mimetype": "text/x-python",
   "name": "python",
   "nbconvert_exporter": "python",
   "pygments_lexer": "ipython3",
   "version": "3.8.3"
  }
 },
 "nbformat": 4,
 "nbformat_minor": 4
}
